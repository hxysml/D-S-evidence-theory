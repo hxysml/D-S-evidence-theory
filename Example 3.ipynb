{
 "cells": [
  {
   "cell_type": "code",
   "execution_count": 1,
   "metadata": {},
   "outputs": [
    {
     "name": "stdout",
     "output_type": "stream",
     "text": [
      "[[0.3352 0.3316]\n",
      " [0.3316 0.3352]]\n",
      "D: [[0.   0.06]\n",
      " [0.06 0.  ]]\n",
      "S: [[1.         0.75505103]\n",
      " [0.75505103 1.        ]]\n",
      "支持度: [0.75505103 0.75505103]\n",
      "Crd: [0.5 0.5]\n"
     ]
    }
   ],
   "source": [
    "        #Jousselme distance\n",
    "        import numpy as np\n",
    "        predict_proba=np.array([[0.3,0.36],[0.36,0.3],[0.34,0.34]])\n",
    "        list = []\n",
    "        P = ['KNN', 'LR']\n",
    "        len_sf = len(P)  \n",
    "        m_between = np.zeros([len_sf,len_sf])\n",
    "        for i in range(len_sf):\n",
    "            for j in range(len_sf):\n",
    "                m_between[i,j]=sum(np.multiply(predict_proba[:,i],predict_proba[:,j]))\n",
    "                # m_between两个证据的内积=两个证据中，每个出现事件的概率乘积*（出现事件的交集/并集）\n",
    "                # 对单个事件而不是集合事件而言，等同于对应事件的概率乘积之和\n",
    "        print(m_between)\n",
    "        d = np.zeros([len_sf,len_sf])\n",
    "        sim = np.zeros([len_sf,len_sf])\n",
    "        for i in range(len_sf):\n",
    "            for j in range(len_sf):\n",
    "                d[i,j]=np.sqrt(0.5*(m_between[i,i]+m_between[j,j]-2*m_between[i,j]))\n",
    "                # d为两个证据间的距离，距离越小表示两个证据提出的意见越一致\n",
    "                sim[i,j]=1-np.sqrt(d[i,j])\n",
    "                # sim为两个证据之间的相似度，越大代表两个证据之间的一致性越强\n",
    "        print('D:',d)\n",
    "        print('S:',sim)\n",
    "        sup = np.zeros(len_sf)\n",
    "        for i in range(len_sf):\n",
    "            sup[i]=sum(sim[i,:])-sim[i,i]\n",
    "            # sup为对每个证据的支持度，为两个证据之间的相似度之和减去该证据自己对自己的支持度\n",
    "            # 证据对自己的支持度为1\n",
    "        print('支持度:',sup)\n",
    "        crd = np.zeros(len_sf)\n",
    "        for i in range(len_sf):\n",
    "            crd[i]=float(sup[i])/sum(sup)\n",
    "            # crd为证据的可信度\n",
    "            # 即为归一化的支持度，其他证据对该证据支持度越高，则可信度越高\n",
    "        print('Crd:',crd)"
   ]
  },
  {
   "cell_type": "code",
   "execution_count": 4,
   "metadata": {},
   "outputs": [
    {
     "name": "stdout",
     "output_type": "stream",
     "text": [
      "[[0.         0.00394006]\n",
      " [0.00394006 0.        ]]\n",
      "S: [0.00098502 0.00098502]\n"
     ]
    }
   ],
   "source": [
    "        #Belief Jensen–Shannon divergence measure\n",
    "        import scipy.stats\n",
    "        a=predict_proba\n",
    "        BJSS= np.zeros(len_sf)\n",
    "        list = []\n",
    "        P = ['KNN', 'LR']\n",
    "        len_sf = len(P)\n",
    "        #print(a)\n",
    "        BJS = np.zeros([len_sf,len_sf])\n",
    "        M=np.zeros([4,5])\n",
    "        for i in range(len_sf):\n",
    "            for j in range(len_sf):\n",
    "                p=a[:,i]\n",
    "                q=a[:,j]\n",
    "                M = (p + q)/2\n",
    "                BJS[i,j]=0.5*scipy.stats.entropy(p, M, base=2)+0.5*scipy.stats.entropy(q, M, base=2)\n",
    "        print(BJS)\n",
    "        for i in range(len_sf):\n",
    "            BJSS[i]=sum(BJS[i,:])/4\n",
    "        print('S:',BJSS)"
   ]
  },
  {
   "cell_type": "code",
   "execution_count": 6,
   "metadata": {},
   "outputs": [
    {
     "name": "stdout",
     "output_type": "stream",
     "text": [
      "D: [[0.         0.05227744]\n",
      " [0.05227744 0.        ]]\n",
      "S: [[1.         0.77135739]\n",
      " [0.77135739 1.        ]]\n",
      "支持度: [0.77135739 0.77135739]\n",
      "D: [[0.         0.05227744]\n",
      " [0.05227744 0.        ]]\n"
     ]
    }
   ],
   "source": [
    "        #Belief Hellinger distance measure   \n",
    "        list = []\n",
    "        P = ['KNN', 'LR']\n",
    "        len_sf = len(P) \n",
    "        d = np.zeros([len_sf,len_sf])\n",
    "        a=predict_proba\n",
    "        for i in range(len_sf):\n",
    "            for j in range(len_sf):\n",
    "                p=a[:,i]\n",
    "                q=a[:,j]\n",
    "                M = (p + q)/2\n",
    "                d[i,j]=1/np.sqrt(2)*np.linalg.norm(np.sqrt(p)-np.sqrt(q))\n",
    "        print('D:',d)\n",
    "        sim = np.zeros([len_sf,len_sf])\n",
    "        for i in range(len_sf):\n",
    "            for j in range(len_sf):\n",
    "                # d为两个证据间的距离，距离越小表示两个证据提出的意见越一致\n",
    "                sim[i,j]=1-np.sqrt(d[i,j])\n",
    "                # sim为两个证据之间的相似度，越大代表两个证据之间的一致性越强\n",
    "        print('S:',sim)\n",
    "        sup = np.zeros(len_sf)\n",
    "        for i in range(len_sf):\n",
    "            sup[i]=sum(sim[i,:])-sim[i,i]\n",
    "            # sup为对每个证据的支持度，为两个证据之间的相似度之和减去该证据自己对自己的支持度\n",
    "            # 证据对自己的支持度为1\n",
    "        print('支持度:',sup)\n",
    "        crd = np.zeros(len_sf)\n",
    "        for i in range(len_sf):\n",
    "            crd[i]=float(sup[i])/sum(sup)\n",
    "        print('D:',d)"
   ]
  },
  {
   "cell_type": "code",
   "execution_count": 7,
   "metadata": {},
   "outputs": [
    {
     "name": "stdout",
     "output_type": "stream",
     "text": [
      "D: [0.0266816 0.0266816]\n",
      "Crd: [0.5 0.5]\n"
     ]
    }
   ],
   "source": [
    "        #mproved measure of evidence\n",
    "        list = []\n",
    "        P = ['KNN', 'LR']\n",
    "        len_sf = len(P) \n",
    "        d = np.zeros(len_sf)\n",
    "        a=predict_proba\n",
    "        for i in range(len_sf):\n",
    "            p=a[:,i]\n",
    "            c = np.mean(p)   \n",
    "            d[i]=1/np.sqrt(2)*np.linalg.norm(np.sqrt(p)-np.sqrt(c))\n",
    "        print('D:',d)\n",
    "        crd = np.zeros(len_sf)\n",
    "        for i in range(len_sf):\n",
    "            crd[i]=float(1/d[i])/sum(1/d)\n",
    "        print('Crd:',crd)"
   ]
  },
  {
   "cell_type": "code",
   "execution_count": 8,
   "metadata": {},
   "outputs": [
    {
     "name": "stdout",
     "output_type": "stream",
     "text": [
      "[0.04320494 0.04320494]\n",
      "Crd: [0.5 0.5]\n"
     ]
    }
   ],
   "source": [
    "        #Standard deviation method\n",
    "        list = []\n",
    "        P = ['KNN', 'LR']\n",
    "        len_sf = len(P) \n",
    "        d = np.zeros(len_sf)\n",
    "        a=predict_proba\n",
    "        for i in range(len_sf):\n",
    "            p=a[:,i]\n",
    "            c = np.mean(p)   \n",
    "            d[i]=np.sqrt(np.sum((p-c)**2))\n",
    "        print(d)\n",
    "        crd = np.zeros(len_sf)\n",
    "        for i in range(len_sf):\n",
    "            crd[i]=float(1/d[i])/sum(1/d)\n",
    "        print('Crd:',crd)"
   ]
  },
  {
   "cell_type": "code",
   "execution_count": null,
   "metadata": {},
   "outputs": [],
   "source": []
  }
 ],
 "metadata": {
  "kernelspec": {
   "display_name": "Python 3",
   "language": "python",
   "name": "python3"
  },
  "language_info": {
   "codemirror_mode": {
    "name": "ipython",
    "version": 3
   },
   "file_extension": ".py",
   "mimetype": "text/x-python",
   "name": "python",
   "nbconvert_exporter": "python",
   "pygments_lexer": "ipython3",
   "version": "3.8.5"
  }
 },
 "nbformat": 4,
 "nbformat_minor": 4
}
