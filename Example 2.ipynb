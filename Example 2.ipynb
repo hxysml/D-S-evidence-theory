{
 "cells": [
  {
   "cell_type": "code",
   "execution_count": 1,
   "metadata": {},
   "outputs": [
    {
     "name": "stdout",
     "output_type": "stream",
     "text": [
      "融合后信度为[[0.5 0.5]]\n",
      "冲突因子k = 0.5\n"
     ]
    }
   ],
   "source": [
    "#Dempster’s method\n",
    "import numpy as np\n",
    "import scipy.stats\n",
    "\n",
    " \n",
    "def py_intersect(string_1, string_2):\n",
    "    \"\"\"\n",
    "    :param string_1: 字符串\n",
    "    :param string_2: 字符串\n",
    "    :return: 两字符串的交集\n",
    "    \"\"\"\n",
    "    result = ''\n",
    "    for char in string_1:\n",
    "        if char in string_2 and char not in result:\n",
    "            result += char\n",
    "    return result\n",
    " \n",
    " \n",
    "def dempster(mp1, mp2, P):\n",
    "    \"\"\"\n",
    "    :param mp1: 证据源1，numpy数组，存储信度\n",
    "    :param mp2: 证据源2，numpy数组，存储信度\n",
    "    :param P: 辨识框架\n",
    "    :return: 返回融合信度和冲突因子\n",
    "    \"\"\"\n",
    "    l = len(P)  # 幂集长度，这里指恐怖分子数目\n",
    "    mp = np.zeros((1, l), 'float64')  # 初始化最终结果mp\n",
    "    k_matrix = np.zeros((l, l))  # 冲突因子乘子\n",
    "    for k in range(l):\n",
    "        tmp = P[k]\n",
    "        f_matrix = np.zeros((l, l))  # 融合乘子\n",
    "        for i in range(l):\n",
    "            for j in range(l):\n",
    "                tmp_ij = py_intersect(P[i], P[j])  # 有无交集\n",
    "                if not tmp_ij:  # 若空集\n",
    "                    k_matrix[i][j] = 1\n",
    "                if tmp_ij == tmp:  # 若交集等于P[k]\n",
    "                    f_matrix[i][j] = 1\n",
    "        mp[0][k] = sum(sum(np.dot(mp1.T, mp2) * f_matrix))\n",
    "    k = sum(sum(np.dot(mp1.T, mp2) * k_matrix))\n",
    "    mp = mp / (1 - k)\n",
    "    return mp, k\n",
    " \n",
    " \n",
    " #m1 = np.array([[0.66691316, 0, 0, 0.33308684]])\n",
    "m1 = np.array([[0.5, 0.5]])\n",
    "m2 = np.array([[0.5, 0.5]])\n",
    " \n",
    "P = ['A', 'B']\n",
    " \n",
    "mp, k = dempster(m1, m2, P)\n",
    "print(f'融合后信度为{mp}')\n",
    "print(f'冲突因子k = {k}')\n",
    "       \n",
    "        "
   ]
  },
  {
   "cell_type": "code",
   "execution_count": 2,
   "metadata": {},
   "outputs": [
    {
     "name": "stdout",
     "output_type": "stream",
     "text": [
      "D: [[0. 0.]\n",
      " [0. 0.]]\n",
      "S: [[1. 1.]\n",
      " [1. 1.]]\n"
     ]
    }
   ],
   "source": [
    "        #Belief Hellinger distance measure   \n",
    "        predict_proba=np.array([[0.5,0.5],[0.5,0.5]])\n",
    "        list = []\n",
    "        P = ['KNN', 'LR']\n",
    "        len_sf = len(P) \n",
    "        d = np.zeros([len_sf,len_sf])\n",
    "        a=predict_proba\n",
    "        for i in range(len_sf):\n",
    "            for j in range(len_sf):\n",
    "                p=a[:,i]\n",
    "                q=a[:,j]\n",
    "                M = (p + q)/2\n",
    "                d[i,j]=1/np.sqrt(2)*np.linalg.norm(np.sqrt(p)-np.sqrt(q))\n",
    "        print('D:',d)\n",
    "        sim = np.zeros([len_sf,len_sf])\n",
    "        for i in range(len_sf):\n",
    "            for j in range(len_sf):\n",
    "                # d为两个证据间的距离，距离越小表示两个证据提出的意见越一致\n",
    "                sim[i,j]=1-np.sqrt(d[i,j])\n",
    "                # sim为两个证据之间的相似度，越大代表两个证据之间的一致性越强\n",
    "        print('S:',sim)"
   ]
  },
  {
   "cell_type": "code",
   "execution_count": 3,
   "metadata": {},
   "outputs": [
    {
     "name": "stdout",
     "output_type": "stream",
     "text": [
      "[[0.5 0.5]\n",
      " [0.5 0.5]]\n",
      "D: [[0. 0.]\n",
      " [0. 0.]]\n",
      "S: [[1. 1.]\n",
      " [1. 1.]]\n"
     ]
    }
   ],
   "source": [
    "        #Jousselme distance\n",
    "        list = []\n",
    "        P = ['KNN', 'LR']\n",
    "        len_sf = len(P)  \n",
    "        m_between = np.zeros([len_sf,len_sf])\n",
    "        for i in range(len_sf):\n",
    "            for j in range(len_sf):\n",
    "                m_between[i,j]=sum(np.multiply(predict_proba[:,i],predict_proba[:,j]))\n",
    "                # m_between两个证据的内积=两个证据中，每个出现事件的概率乘积*（出现事件的交集/并集）\n",
    "                # 对单个事件而不是集合事件而言，等同于对应事件的概率乘积之和\n",
    "        print(m_between)\n",
    "        d = np.zeros([len_sf,len_sf])\n",
    "        sim = np.zeros([len_sf,len_sf])\n",
    "        for i in range(len_sf):\n",
    "            for j in range(len_sf):\n",
    "                d[i,j]=np.sqrt(0.5*(m_between[i,i]+m_between[j,j]-2*m_between[i,j]))\n",
    "                # d为两个证据间的距离，距离越小表示两个证据提出的意见越一致\n",
    "                sim[i,j]=1-np.sqrt(d[i,j])\n",
    "                # sim为两个证据之间的相似度，越大代表两个证据之间的一致性越强\n",
    "        print('D:',d)\n",
    "        print('S:',sim)"
   ]
  },
  {
   "cell_type": "code",
   "execution_count": 4,
   "metadata": {},
   "outputs": [
    {
     "name": "stdout",
     "output_type": "stream",
     "text": [
      "[[0. 0.]\n",
      " [0. 0.]]\n"
     ]
    }
   ],
   "source": [
    "        #Belief Jensen–Shannon divergence measure\n",
    "        list = []\n",
    "        P = ['KNN', 'LR']\n",
    "        len_sf = len(P)\n",
    "        #print(a)\n",
    "        BJS = np.zeros([len_sf,len_sf])\n",
    "        M=np.zeros([4,5])\n",
    "        for i in range(len_sf):\n",
    "            for j in range(len_sf):\n",
    "                p=a[:,i]\n",
    "                q=a[:,j]\n",
    "                M = (p + q)/2\n",
    "                BJS[i,j]=0.5*scipy.stats.entropy(p, M, base=2)+0.5*scipy.stats.entropy(q, M, base=2)\n",
    "        print(BJS)"
   ]
  },
  {
   "cell_type": "code",
   "execution_count": 5,
   "metadata": {},
   "outputs": [
    {
     "name": "stdout",
     "output_type": "stream",
     "text": [
      "D: [[0. 0.]\n",
      " [0. 0.]]\n",
      "S: [[1. 1.]\n",
      " [1. 1.]]\n"
     ]
    }
   ],
   "source": [
    "        #Improved measure of evidence\n",
    "        list = []\n",
    "        P = ['KNN', 'LR']\n",
    "        len_sf = len(P) \n",
    "        d = np.zeros([len_sf,len_sf])\n",
    "        a=predict_proba\n",
    "        for i in range(len_sf):\n",
    "            p=a[:,i]\n",
    "            c = np.mean(p)   \n",
    "            d[i]=np.linalg.norm(np.sqrt(p)-np.sqrt(c))\n",
    "        print('D:',d)\n",
    "        sim = np.zeros([len_sf,len_sf])\n",
    "        for i in range(len_sf):\n",
    "            for j in range(len_sf):\n",
    "                # d为两个证据间的距离，距离越小表示两个证据提出的意见越一致\n",
    "                sim[i,j]=1-np.sqrt(d[i,j])\n",
    "                # sim为两个证据之间的相似度，越大代表两个证据之间的一致性越强\n",
    "        print('S:',sim)"
   ]
  },
  {
   "cell_type": "code",
   "execution_count": null,
   "metadata": {},
   "outputs": [],
   "source": []
  },
  {
   "cell_type": "code",
   "execution_count": null,
   "metadata": {},
   "outputs": [],
   "source": []
  }
 ],
 "metadata": {
  "kernelspec": {
   "display_name": "Python 3",
   "language": "python",
   "name": "python3"
  },
  "language_info": {
   "codemirror_mode": {
    "name": "ipython",
    "version": 3
   },
   "file_extension": ".py",
   "mimetype": "text/x-python",
   "name": "python",
   "nbconvert_exporter": "python",
   "pygments_lexer": "ipython3",
   "version": "3.8.5"
  }
 },
 "nbformat": 4,
 "nbformat_minor": 4
}
